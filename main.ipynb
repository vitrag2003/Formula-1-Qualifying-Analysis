{
 "cells": [
  {
   "cell_type": "code",
   "execution_count": 22,
   "metadata": {},
   "outputs": [],
   "source": [
    "import fastf1 as ff1\n",
    "from fastf1 import plotting\n",
    "import numpy as np\n",
    "import plotly.graph_objects as go\n",
    "import random"
   ]
  },
  {
   "cell_type": "code",
   "execution_count": 23,
   "metadata": {},
   "outputs": [
    {
     "name": "stderr",
     "output_type": "stream",
     "text": [
      "c:\\Users\\Vitrag Khatadia\\AppData\\Local\\Programs\\Python\\Python39\\lib\\site-packages\\fastf1\\plotting\\_plotting.py:90: FutureWarning:\n",
      "\n",
      "FastF1 will no longer silently modify the default Matplotlib colors in the future.\n",
      "To remove this warning, explicitly set `color_scheme=None` or `color_scheme='fastf1'` when calling `.setup_mpl()`.\n",
      "\n",
      "c:\\Users\\Vitrag Khatadia\\AppData\\Local\\Programs\\Python\\Python39\\lib\\site-packages\\fastf1\\plotting\\_plotting.py:98: FutureWarning:\n",
      "\n",
      "FastF1 will stop modifying the default Matplotlib settings in the future.\n",
      "To opt-in to the new behaviour and remove this warning, explicitly set `misc_mpl_mods=False` when calling `.setup_mpl()`.\n",
      "\n"
     ]
    }
   ],
   "source": [
    "# Enable the cache\n",
    "ff1.Cache.enable_cache('cache') \n",
    "\n",
    "# Setup plotting\n",
    "plotting.setup_mpl()"
   ]
  },
  {
   "cell_type": "code",
   "execution_count": 24,
   "metadata": {},
   "outputs": [],
   "source": [
    "# Load the session data\n",
    "quali = ff1.get_session(2024, 'Silverstone', 'Q')"
   ]
  },
  {
   "cell_type": "code",
   "execution_count": 25,
   "metadata": {},
   "outputs": [
    {
     "data": {
      "text/plain": [
       "2024 Season Round 12: British Grand Prix - Qualifying"
      ]
     },
     "execution_count": 25,
     "metadata": {},
     "output_type": "execute_result"
    }
   ],
   "source": [
    "quali"
   ]
  },
  {
   "cell_type": "code",
   "execution_count": 26,
   "metadata": {},
   "outputs": [
    {
     "name": "stderr",
     "output_type": "stream",
     "text": [
      "core           INFO \tLoading data for British Grand Prix - Qualifying [v3.4.0]\n",
      "req            INFO \tUsing cached data for session_info\n",
      "req            INFO \tUsing cached data for driver_info\n",
      "req            INFO \tUsing cached data for session_status_data\n",
      "req            INFO \tUsing cached data for track_status_data\n",
      "req            INFO \tUsing cached data for _extended_timing_data\n",
      "req            INFO \tUsing cached data for timing_app_data\n",
      "core           INFO \tProcessing timing data...\n",
      "req            INFO \tUsing cached data for car_data\n",
      "req            INFO \tUsing cached data for position_data\n",
      "req            INFO \tUsing cached data for weather_data\n",
      "req            INFO \tUsing cached data for race_control_messages\n",
      "core           INFO \tFinished loading data for 20 drivers: ['63', '44', '4', '1', '81', '27', '55', '18', '23', '14', '16', '2', '22', '24', '3', '77', '20', '31', '11', '10']\n"
     ]
    }
   ],
   "source": [
    "quali.load()"
   ]
  },
  {
   "cell_type": "code",
   "execution_count": 27,
   "metadata": {},
   "outputs": [],
   "source": [
    "q1,q2,q3=quali.laps.split_qualifying_sessions()"
   ]
  },
  {
   "cell_type": "code",
   "execution_count": 28,
   "metadata": {},
   "outputs": [],
   "source": [
    "# Get the telemetry data for the fastest lap of the three drivers\n",
    "ver_lap = q3.pick_driver('VER').pick_fastest()\n",
    "ham_lap = q3.pick_driver('HAM').pick_fastest()\n",
    "nor_lap = q3.pick_driver('NOR').pick_fastest()"
   ]
  },
  {
   "cell_type": "code",
   "execution_count": 29,
   "metadata": {},
   "outputs": [
    {
     "name": "stderr",
     "output_type": "stream",
     "text": [
      "core        WARNING \tFailed to preserve data type for column 'X' while merging telemetry.\n",
      "core        WARNING \tFailed to preserve data type for column 'Y' while merging telemetry.\n",
      "core        WARNING \tFailed to preserve data type for column 'Z' while merging telemetry.\n",
      "core        WARNING \tFailed to preserve data type for column 'X' while merging telemetry.\n",
      "core        WARNING \tFailed to preserve data type for column 'Y' while merging telemetry.\n",
      "core        WARNING \tFailed to preserve data type for column 'Z' while merging telemetry.\n"
     ]
    }
   ],
   "source": [
    "# Get the telemetry data and add distance\n",
    "ver_tel = ver_lap.get_telemetry().add_distance()\n",
    "ham_tel = ham_lap.get_telemetry().add_distance()\n",
    "nor_tel = nor_lap.get_telemetry().add_distance()"
   ]
  },
  {
   "cell_type": "code",
   "execution_count": 30,
   "metadata": {},
   "outputs": [],
   "source": [
    "ver_tel['X'] = ver_tel['X'].astype(float)\n",
    "ver_tel['Y'] = ver_tel['Y'].astype(float)\n",
    "ver_tel['Z'] = ver_tel['Z'].astype(float)\n",
    "\n",
    "nor_tel['X'] = nor_tel['X'].astype(float)\n",
    "nor_tel['Y'] = nor_tel['Y'].astype(float)\n",
    "nor_tel['Z'] = nor_tel['Z'].astype(float)\n",
    "\n",
    "ham_tel['X'] = ham_tel['X'].astype(float)\n",
    "ham_tel['Y'] = ham_tel['Y'].astype(float)\n",
    "ham_tel['Z'] = ham_tel['Z'].astype(float)"
   ]
  },
  {
   "cell_type": "code",
   "execution_count": 31,
   "metadata": {},
   "outputs": [],
   "source": [
    "minisectors = np.linspace(0, max(ver_tel['Distance'].max(), ham_tel['Distance'].max(), nor_tel['Distance'].max()), 25)"
   ]
  },
  {
   "cell_type": "code",
   "execution_count": 32,
   "metadata": {},
   "outputs": [],
   "source": [
    "# Create an array to store which driver was fastest in each minisector\n",
    "minisector_winner = []\n",
    "sector_winner_count = {'VER': 0, 'HAM': 0, 'NOR': 0}"
   ]
  },
  {
   "cell_type": "code",
   "execution_count": 33,
   "metadata": {},
   "outputs": [],
   "source": [
    "# Determine which driver was fastest in each minisector\n",
    "for i in range(len(minisectors) - 1):\n",
    "    ver_speed = ver_tel[(ver_tel['Distance'] >= minisectors[i]) & (ver_tel['Distance'] < minisectors[i+1])]['Speed'].mean()\n",
    "    ham_speed = ham_tel[(ham_tel['Distance'] >= minisectors[i]) & (ham_tel['Distance'] < minisectors[i+1])]['Speed'].mean()\n",
    "    nor_speed = nor_tel[(nor_tel['Distance'] >= minisectors[i]) & (nor_tel['Distance'] < minisectors[i+1])]['Speed'].mean()\n",
    "    \n",
    "    if nor_speed > ver_speed and nor_speed > ham_speed:\n",
    "        minisector_winner.append('NOR')\n",
    "        sector_winner_count['NOR'] += 1\n",
    "    elif ver_speed > ham_speed:\n",
    "        minisector_winner.append('VER')\n",
    "        sector_winner_count['VER'] += 1\n",
    "    else:\n",
    "        minisector_winner.append('HAM')\n",
    "        sector_winner_count['HAM'] += 1\n"
   ]
  },
  {
   "cell_type": "code",
   "execution_count": 37,
   "metadata": {},
   "outputs": [
    {
     "data": {
      "application/vnd.plotly.v1+json": {
       "config": {
        "plotlyServerURL": "https://plot.ly"
       },
       "data": [
        {
         "legendgroup": "VER",
         "line": {
          "color": "#C4B0CD",
          "width": 4
         },
         "mode": "lines",
         "name": "VER",
         "type": "scatter",
         "x": [
          null
         ],
         "y": [
          null
         ]
        },
        {
         "legendgroup": "HAM",
         "line": {
          "color": "#BD901B",
          "width": 4
         },
         "mode": "lines",
         "name": "HAM",
         "type": "scatter",
         "x": [
          null
         ],
         "y": [
          null
         ]
        },
        {
         "legendgroup": "NOR",
         "line": {
          "color": "#5A6EC8",
          "width": 4
         },
         "mode": "lines",
         "name": "NOR",
         "type": "scatter",
         "x": [
          null
         ],
         "y": [
          null
         ]
        },
        {
         "line": {
          "color": "#5A6EC8",
          "dash": "solid",
          "width": 6
         },
         "mode": "lines",
         "name": "NOR",
         "showlegend": false,
         "type": "scatter",
         "x": [
          -1697,
          -1665,
          -1654,
          -1591,
          -1546,
          -1544,
          -1432,
          -1367,
          -1361,
          -1259,
          -1218,
          -1113,
          -1038,
          -967,
          -961,
          -920,
          -836,
          -774,
          -699,
          -697,
          -613,
          -569,
          -504,
          -477,
          -461,
          -333
         ],
         "y": [
          1284,
          1328,
          1344,
          1423,
          1479,
          1483,
          1623,
          1707,
          1714,
          1855,
          1909,
          2055,
          2157,
          2256,
          2264,
          2320,
          2435,
          2520,
          2624,
          2628,
          2746,
          2808,
          2905,
          2945,
          2967,
          3162
         ]
        },
        {
         "line": {
          "color": "#BD901B",
          "dash": "solid",
          "width": 6
         },
         "mode": "lines",
         "name": "HAM",
         "showlegend": false,
         "type": "scatter",
         "x": [
          -299,
          -252,
          -178,
          -172,
          -39,
          -7,
          92,
          97,
          175,
          333,
          396,
          445,
          456,
          621,
          718,
          961,
          974,
          1089,
          1108,
          1337,
          1404,
          1507
         ],
         "y": [
          3212,
          3284,
          3392,
          3400,
          3587,
          3632,
          3764,
          3771,
          3867,
          4044,
          4113,
          4159,
          4169,
          4308,
          4359,
          4459,
          4464,
          4490,
          4492,
          4518,
          4520,
          4521
         ]
        },
        {
         "line": {
          "color": "#5A6EC8",
          "dash": "solid",
          "width": 6
         },
         "mode": "lines",
         "name": "NOR",
         "showlegend": false,
         "type": "scatter",
         "x": [
          1602,
          1922,
          1945,
          2020,
          2093,
          2101,
          2256,
          2388,
          2429,
          2592,
          2620,
          2780,
          2966,
          3025,
          3077,
          3196,
          3386,
          3525,
          3600,
          3735,
          3761
         ],
         "y": [
          4518,
          4484,
          4482,
          4471,
          4462,
          4460,
          4445,
          4439,
          4437,
          4440,
          4444,
          4469,
          4508,
          4523,
          4546,
          4603,
          4705,
          4802,
          4866,
          4990,
          5016
         ]
        },
        {
         "line": {
          "color": "#BD901B",
          "dash": "solid",
          "width": 6
         },
         "mode": "lines",
         "name": "HAM",
         "showlegend": false,
         "type": "scatter",
         "x": [
          3924,
          4024,
          4139,
          4167,
          4331,
          4352,
          4472,
          4477,
          4589,
          4607,
          4674,
          4711,
          4800,
          4806,
          4948,
          4993,
          5084,
          5091,
          5115,
          5140,
          5188,
          5196,
          5245,
          5265,
          5320,
          5325,
          5347,
          5360,
          5367,
          5374,
          5379,
          5383,
          5392,
          5392,
          5395,
          5400
         ],
         "y": [
          5180,
          5279,
          5389,
          5415,
          5563,
          5581,
          5682,
          5686,
          5777,
          5791,
          5837,
          5856,
          5889,
          5890,
          5901,
          5895,
          5870,
          5868,
          5858,
          5843,
          5809,
          5804,
          5760,
          5736,
          5640,
          5630,
          5569,
          5521,
          5491,
          5452,
          5416,
          5373,
          5278,
          5268,
          5246,
          5213
         ]
        },
        {
         "line": {
          "color": "#BD901B",
          "dash": "solid",
          "width": 6
         },
         "mode": "lines",
         "name": "HAM",
         "showlegend": false,
         "type": "scatter",
         "x": [
          5422,
          5432,
          5437,
          5451,
          5452,
          5485,
          5503,
          5524,
          5534,
          5567,
          5581,
          5632,
          5651,
          5685,
          5713,
          5719,
          5768,
          5770,
          5846,
          5862,
          5882,
          5888,
          5913,
          5947,
          5961,
          5998,
          6000,
          6026,
          6038,
          6066,
          6071,
          6092,
          6096,
          6128,
          6134,
          6179,
          6203,
          6213,
          6216,
          6235,
          6250,
          6263,
          6283,
          6289,
          6306,
          6307,
          6321,
          6324,
          6332,
          6327,
          6322,
          6315,
          6302,
          6298
         ],
         "y": [
          5096,
          5052,
          5029,
          5002,
          4998,
          4939,
          4912,
          4885,
          4871,
          4837,
          4823,
          4783,
          4771,
          4751,
          4741,
          4738,
          4728,
          4729,
          4747,
          4753,
          4764,
          4769,
          4789,
          4818,
          4831,
          4871,
          4873,
          4904,
          4920,
          4961,
          4968,
          5002,
          5009,
          5067,
          5079,
          5180,
          5243,
          5273,
          5282,
          5343,
          5393,
          5445,
          5523,
          5551,
          5639,
          5643,
          5740,
          5768,
          5931,
          6017,
          6094,
          6162,
          6227,
          6249
         ]
        },
        {
         "line": {
          "color": "#5A6EC8",
          "dash": "solid",
          "width": 6
         },
         "mode": "lines",
         "name": "NOR",
         "showlegend": false,
         "type": "scatter",
         "x": [
          6276,
          6256,
          6235,
          6205,
          6160,
          6147,
          6065,
          6018,
          5954,
          5952,
          5883,
          5841,
          5770,
          5762,
          5662,
          5632,
          5520,
          5517,
          5404,
          5401,
          5308,
          5242,
          5125,
          5122,
          4722
         ],
         "y": [
          6337,
          6405,
          6461,
          6535,
          6628,
          6650,
          6787,
          6855,
          6935,
          6938,
          7014,
          7058,
          7125,
          7131,
          7217,
          7241,
          7330,
          7333,
          7418,
          7421,
          7493,
          7545,
          7639,
          7642,
          7980
         ]
        },
        {
         "line": {
          "color": "#5A6EC8",
          "dash": "solid",
          "width": 6
         },
         "mode": "lines",
         "name": "NOR",
         "showlegend": false,
         "type": "scatter",
         "x": [
          4616,
          4543,
          4503,
          4374,
          4343,
          4203,
          4150,
          4092,
          4085,
          3860,
          3856,
          3697,
          3555,
          3532,
          3492,
          3444,
          3417,
          3213,
          3177,
          3086,
          2934,
          2881,
          2823
         ],
         "y": [
          8069,
          8133,
          8167,
          8278,
          8304,
          8425,
          8470,
          8520,
          8525,
          8718,
          8723,
          8861,
          8987,
          9008,
          9043,
          9086,
          9109,
          9288,
          9320,
          9399,
          9532,
          9579,
          9628
         ]
        },
        {
         "line": {
          "color": "#C4B0CD",
          "dash": "solid",
          "width": 6
         },
         "mode": "lines",
         "name": "VER",
         "showlegend": false,
         "type": "scatter",
         "x": [
          2724,
          2616,
          2594,
          2458,
          2297,
          2235,
          2206,
          2139,
          2080,
          2003,
          1898,
          1830,
          1779,
          1625,
          1532,
          1411,
          1349,
          1328,
          1169,
          1138,
          984,
          914
         ],
         "y": [
          9714,
          9807,
          9827,
          9946,
          10089,
          10143,
          10170,
          10229,
          10284,
          10352,
          10447,
          10506,
          10549,
          10669,
          10741,
          10822,
          10846,
          10855,
          10915,
          10922,
          10949,
          10955
         ]
        },
        {
         "line": {
          "color": "#C4B0CD",
          "dash": "solid",
          "width": 6
         },
         "mode": "lines",
         "name": "VER",
         "showlegend": false,
         "type": "scatter",
         "x": [
          819,
          777,
          763,
          661,
          634,
          522,
          498,
          418,
          409,
          365,
          345,
          308,
          307,
          239,
          239,
          214,
          203,
          193,
          188,
          188,
          186,
          184,
          177,
          176,
          152,
          150,
          138,
          130,
          64,
          32,
          -18,
          -88,
          -104,
          -173,
          -248,
          -260,
          -296,
          -318,
          -383,
          -399,
          -456,
          -472,
          -492,
          -531,
          -560
         ],
         "y": [
          10949,
          10946,
          10945,
          10926,
          10917,
          10868,
          10854,
          10795,
          10787,
          10737,
          10710,
          10651,
          10649,
          10509,
          10507,
          10425,
          10356,
          10264,
          10203,
          10180,
          10133,
          10072,
          9977,
          9963,
          9832,
          9823,
          9785,
          9769,
          9661,
          9615,
          9557,
          9512,
          9505,
          9474,
          9448,
          9444,
          9439,
          9440,
          9445,
          9448,
          9467,
          9474,
          9485,
          9510,
          9532
         ]
        },
        {
         "line": {
          "color": "#BD901B",
          "dash": "solid",
          "width": 6
         },
         "mode": "lines",
         "name": "HAM",
         "showlegend": false,
         "type": "scatter",
         "x": [
          -614,
          -616,
          -665,
          -691,
          -727,
          -744,
          -753,
          -763,
          -777,
          -775,
          -772,
          -759,
          -751,
          -727,
          -686,
          -674,
          -627,
          -605,
          -546,
          -545,
          -493,
          -489,
          -439,
          -416,
          -363,
          -337,
          -267,
          -265,
          -235,
          -137,
          -78
         ],
         "y": [
          9583,
          9586,
          9656,
          9696,
          9761,
          9813,
          9855,
          9922,
          10044,
          10128,
          10162,
          10265,
          10304,
          10412,
          10540,
          10569,
          10692,
          10744,
          10865,
          10868,
          10968,
          10975,
          11070,
          11111,
          11206,
          11247,
          11359,
          11363,
          11408,
          11541,
          11617
         ]
        },
        {
         "line": {
          "color": "#5A6EC8",
          "dash": "solid",
          "width": 6
         },
         "mode": "lines",
         "name": "NOR",
         "showlegend": false,
         "type": "scatter",
         "x": [
          52,
          109,
          137,
          244,
          303,
          341,
          459,
          487,
          619,
          671,
          810,
          1011,
          1017,
          1145,
          1262,
          1417,
          1485,
          1654,
          1709,
          1856,
          2027,
          2089
         ],
         "y": [
          11768,
          11829,
          11858,
          11960,
          12015,
          12049,
          12148,
          12170,
          12267,
          12303,
          12386,
          12484,
          12487,
          12541,
          12583,
          12633,
          12652,
          12695,
          12707,
          12737,
          12765,
          12774
         ]
        },
        {
         "line": {
          "color": "#5A6EC8",
          "dash": "solid",
          "width": 6
         },
         "mode": "lines",
         "name": "NOR",
         "showlegend": false,
         "type": "scatter",
         "x": [
          2228,
          2233,
          2377,
          2388,
          2539,
          2668,
          2744,
          2798,
          2978,
          3091,
          3323,
          3334,
          3557,
          3620,
          3853,
          3896,
          4003,
          4049,
          4223,
          4254,
          4506,
          4594
         ],
         "y": [
          12791,
          12792,
          12808,
          12809,
          12826,
          12839,
          12847,
          12853,
          12870,
          12881,
          12907,
          12908,
          12933,
          12940,
          12966,
          12970,
          12983,
          12988,
          13011,
          13015,
          13048,
          13059
         ]
        },
        {
         "line": {
          "color": "#BD901B",
          "dash": "solid",
          "width": 6
         },
         "mode": "lines",
         "name": "HAM",
         "showlegend": false,
         "type": "scatter",
         "x": [
          4686,
          4804,
          4809,
          4876,
          4996,
          5261,
          5272,
          5401,
          5458,
          5582,
          5687,
          5796,
          5869,
          5993,
          6053,
          6072,
          6194,
          6225,
          6345,
          6472,
          6478,
          6540
         ],
         "y": [
          13071,
          13085,
          13086,
          13093,
          13102,
          13115,
          13115,
          13104,
          13093,
          13067,
          13034,
          12988,
          12955,
          12885,
          12839,
          12823,
          12722,
          12693,
          12554,
          12340,
          12328,
          12188
         ]
        },
        {
         "line": {
          "color": "#C4B0CD",
          "dash": "solid",
          "width": 6
         },
         "mode": "lines",
         "name": "VER",
         "showlegend": false,
         "type": "scatter",
         "x": [
          6559,
          6604,
          6629,
          6674,
          6676,
          6714,
          6731,
          6775,
          6807,
          6820,
          6835,
          6858,
          6875,
          6881,
          6892,
          6904,
          6916,
          6932,
          6945,
          6949,
          6951,
          6965,
          6969,
          6979
         ],
         "y": [
          12137,
          12018,
          11941,
          11787,
          11782,
          11639,
          11568,
          11383,
          11241,
          11173,
          11090,
          10962,
          10849,
          10814,
          10736,
          10649,
          10535,
          10400,
          10274,
          10234,
          10203,
          10017,
          9924,
          9680
         ]
        },
        {
         "line": {
          "color": "#5A6EC8",
          "dash": "solid",
          "width": 6
         },
         "mode": "lines",
         "name": "NOR",
         "showlegend": false,
         "type": "scatter",
         "x": [
          6982,
          6982,
          6984,
          6985,
          6989,
          7004,
          7004,
          7018,
          7020,
          7044,
          7051,
          7069,
          7121,
          7155,
          7202,
          7272,
          7318,
          7354,
          7408,
          7411
         ],
         "y": [
          9566,
          9478,
          9409,
          9358,
          9257,
          8970,
          8956,
          8835,
          8813,
          8650,
          8604,
          8516,
          8288,
          8167,
          8014,
          7811,
          7689,
          7604,
          7466,
          7461
         ]
        },
        {
         "line": {
          "color": "#C4B0CD",
          "dash": "solid",
          "width": 6
         },
         "mode": "lines",
         "name": "VER",
         "showlegend": false,
         "type": "scatter",
         "x": [
          7501,
          7512,
          7531,
          7534,
          7537,
          7536,
          7502,
          7499,
          7473,
          7437,
          7421,
          7392,
          7361,
          7354,
          7336,
          7318,
          7316,
          7339,
          7350,
          7443,
          7452
         ],
         "y": [
          7190,
          7149,
          7050,
          7011,
          6907,
          6816,
          6579,
          6567,
          6447,
          6302,
          6242,
          6126,
          5990,
          5950,
          5842,
          5678,
          5648,
          5392,
          5350,
          5111,
          5095
         ]
        },
        {
         "line": {
          "color": "#5A6EC8",
          "dash": "solid",
          "width": 6
         },
         "mode": "lines",
         "name": "NOR",
         "showlegend": false,
         "type": "scatter",
         "x": [
          7513,
          7567,
          7629,
          7656,
          7688,
          7723,
          7770,
          7781,
          7793,
          7788,
          7770,
          7761,
          7743,
          7722,
          7654,
          7637,
          7591,
          7542,
          7529,
          7458,
          7456,
          7388,
          7202,
          7137,
          7058,
          7019,
          6967,
          6917
         ],
         "y": [
          4985,
          4899,
          4796,
          4747,
          4689,
          4606,
          4457,
          4415,
          4305,
          4229,
          4122,
          4081,
          4021,
          3966,
          3818,
          3786,
          3711,
          3653,
          3638,
          3564,
          3562,
          3505,
          3393,
          3357,
          3317,
          3296,
          3266,
          3235
         ]
        },
        {
         "line": {
          "color": "#BD901B",
          "dash": "solid",
          "width": 6
         },
         "mode": "lines",
         "name": "HAM",
         "showlegend": false,
         "type": "scatter",
         "x": [
          6797,
          6769,
          6622,
          6600,
          6445,
          6437,
          6378,
          6282,
          6208,
          6171,
          6129,
          6100,
          6071,
          6017,
          5956,
          5909,
          5867,
          5838,
          5735,
          5680,
          5652,
          5610,
          5569
         ],
         "y": [
          3143,
          3117,
          2968,
          2945,
          2764,
          2754,
          2676,
          2529,
          2401,
          2336,
          2261,
          2202,
          2145,
          2038,
          1913,
          1816,
          1730,
          1671,
          1459,
          1344,
          1284,
          1196,
          1111
         ]
        },
        {
         "line": {
          "color": "#BD901B",
          "dash": "solid",
          "width": 6
         },
         "mode": "lines",
         "name": "HAM",
         "showlegend": false,
         "type": "scatter",
         "x": [
          5533,
          5486,
          5441,
          5429,
          5348,
          5343,
          5267,
          5238,
          5200,
          5135,
          5118,
          4994,
          4977,
          4944,
          4927,
          4835,
          4785,
          4725,
          4698,
          4686,
          4615,
          4595,
          4520
         ],
         "y": [
          1034,
          935,
          841,
          816,
          647,
          637,
          481,
          420,
          340,
          207,
          172,
          -84,
          -118,
          -187,
          -223,
          -414,
          -519,
          -640,
          -696,
          -722,
          -868,
          -911,
          -1063
         ]
        },
        {
         "line": {
          "color": "#BD901B",
          "dash": "solid",
          "width": 6
         },
         "mode": "lines",
         "name": "HAM",
         "showlegend": false,
         "type": "scatter",
         "x": [
          4457,
          4401,
          4309,
          4304,
          4269,
          4239,
          4181,
          4107,
          4080,
          4027,
          3966,
          3904,
          3894,
          3828,
          3805,
          3727,
          3703,
          3583,
          3581,
          3502,
          3491,
          3365,
          3335
         ],
         "y": [
          -1195,
          -1307,
          -1496,
          -1504,
          -1577,
          -1639,
          -1755,
          -1900,
          -1956,
          -2058,
          -2179,
          -2297,
          -2318,
          -2445,
          -2488,
          -2639,
          -2683,
          -2903,
          -2908,
          -3049,
          -3066,
          -3282,
          -3331
         ]
        },
        {
         "line": {
          "color": "#5A6EC8",
          "dash": "solid",
          "width": 6
         },
         "mode": "lines",
         "name": "NOR",
         "showlegend": false,
         "type": "scatter",
         "x": [
          3279,
          3148,
          3052,
          2981,
          2914,
          2854,
          2780,
          2654,
          2527,
          2466,
          2412,
          2410,
          2265,
          2201,
          2069,
          1976,
          1944,
          1782,
          1733,
          1660,
          1595,
          1554,
          1516
         ],
         "y": [
          -3418,
          -3589,
          -3712,
          -3792,
          -3849,
          -3897,
          -3949,
          -4014,
          -4070,
          -4092,
          -4100,
          -4101,
          -4118,
          -4117,
          -4100,
          -4078,
          -4067,
          -3993,
          -3967,
          -3923,
          -3868,
          -3829,
          -3792
         ]
        },
        {
         "line": {
          "color": "#BD901B",
          "dash": "solid",
          "width": 6
         },
         "mode": "lines",
         "name": "HAM",
         "showlegend": false,
         "type": "scatter",
         "x": [
          1445,
          1344,
          1282,
          1190,
          1176,
          1142,
          1091,
          1070,
          992,
          948,
          922,
          850,
          805,
          708,
          692,
          628,
          586,
          548,
          438,
          408,
          316,
          309,
          269,
          159,
          134
         ],
         "y": [
          -3713,
          -3582,
          -3486,
          -3321,
          -3293,
          -3229,
          -3133,
          -3093,
          -2957,
          -2888,
          -2848,
          -2743,
          -2680,
          -2549,
          -2528,
          -2441,
          -2384,
          -2332,
          -2184,
          -2144,
          -2023,
          -2015,
          -1963,
          -1826,
          -1796
         ]
        },
        {
         "line": {
          "color": "#C4B0CD",
          "dash": "solid",
          "width": 6
         },
         "mode": "lines",
         "name": "VER",
         "showlegend": false,
         "type": "scatter",
         "x": [
          -17,
          -93,
          -173,
          -184,
          -290,
          -311,
          -407,
          -431,
          -470,
          -500,
          -562,
          -594,
          -650,
          -680,
          -741,
          -745,
          -813,
          -824,
          -880,
          -890,
          -938,
          -941,
          -979,
          -999,
          -1055,
          -1057,
          -1135,
          -1167,
          -1231,
          -1238,
          -1302,
          -1345,
          -1373,
          -1405,
          -1476,
          -1481,
          -1540,
          -1643,
          -1663,
          -1757,
          -1763,
          -1812,
          -1856
         ],
         "y": [
          -1620,
          -1533,
          -1443,
          -1432,
          -1313,
          -1289,
          -1182,
          -1154,
          -1113,
          -1086,
          -1033,
          -1008,
          -975,
          -960,
          -935,
          -933,
          -917,
          -915,
          -912,
          -911,
          -913,
          -913,
          -919,
          -923,
          -943,
          -944,
          -991,
          -1014,
          -1064,
          -1069,
          -1115,
          -1143,
          -1151,
          -1160,
          -1174,
          -1174,
          -1169,
          -1144,
          -1136,
          -1096,
          -1093,
          -1064,
          -1029
         ]
        },
        {
         "line": {
          "color": "#5A6EC8",
          "dash": "solid",
          "width": 6
         },
         "mode": "lines",
         "name": "NOR",
         "showlegend": false,
         "type": "scatter",
         "x": [
          -1923,
          -1938,
          -1953,
          -2026,
          -2080,
          -2107,
          -2156,
          -2174,
          -2216,
          -2222,
          -2245,
          -2247,
          -2299,
          -2309,
          -2312,
          -2315,
          -2314,
          -2287,
          -2285,
          -2271,
          -2253,
          -2230,
          -2190,
          -2186,
          -2165,
          -2108,
          -2069,
          -2028,
          -1955,
          -1952,
          -1855,
          -1844,
          -1777,
          -1771
         ],
         "y": [
          -973,
          -956,
          -940,
          -850,
          -781,
          -744,
          -669,
          -635,
          -537,
          -525,
          -462,
          -452,
          -238,
          -164,
          -105,
          -20,
          -9,
          249,
          268,
          338,
          393,
          456,
          554,
          562,
          603,
          706,
          773,
          833,
          937,
          942,
          1075,
          1091,
          1182,
          1189
         ]
        }
       ],
       "layout": {
        "annotations": [
         {
          "font": {
           "color": "#E329EE",
           "size": 16
          },
          "showarrow": false,
          "text": "Fastest Driver: RUS (0 days 00:01:25.819000)",
          "x": 0.5,
          "xref": "paper",
          "y": 1.05,
          "yref": "paper"
         }
        ],
        "font": {
         "color": "white",
         "family": "Arial",
         "size": 14
        },
        "legend": {
         "title": {
          "text": "Drivers"
         }
        },
        "margin": {
         "b": 0,
         "l": 0,
         "r": 0,
         "t": 100
        },
        "paper_bgcolor": "black",
        "plot_bgcolor": "black",
        "template": {
         "data": {
          "bar": [
           {
            "error_x": {
             "color": "#2a3f5f"
            },
            "error_y": {
             "color": "#2a3f5f"
            },
            "marker": {
             "line": {
              "color": "#E5ECF6",
              "width": 0.5
             },
             "pattern": {
              "fillmode": "overlay",
              "size": 10,
              "solidity": 0.2
             }
            },
            "type": "bar"
           }
          ],
          "barpolar": [
           {
            "marker": {
             "line": {
              "color": "#E5ECF6",
              "width": 0.5
             },
             "pattern": {
              "fillmode": "overlay",
              "size": 10,
              "solidity": 0.2
             }
            },
            "type": "barpolar"
           }
          ],
          "carpet": [
           {
            "aaxis": {
             "endlinecolor": "#2a3f5f",
             "gridcolor": "white",
             "linecolor": "white",
             "minorgridcolor": "white",
             "startlinecolor": "#2a3f5f"
            },
            "baxis": {
             "endlinecolor": "#2a3f5f",
             "gridcolor": "white",
             "linecolor": "white",
             "minorgridcolor": "white",
             "startlinecolor": "#2a3f5f"
            },
            "type": "carpet"
           }
          ],
          "choropleth": [
           {
            "colorbar": {
             "outlinewidth": 0,
             "ticks": ""
            },
            "type": "choropleth"
           }
          ],
          "contour": [
           {
            "colorbar": {
             "outlinewidth": 0,
             "ticks": ""
            },
            "colorscale": [
             [
              0,
              "#0d0887"
             ],
             [
              0.1111111111111111,
              "#46039f"
             ],
             [
              0.2222222222222222,
              "#7201a8"
             ],
             [
              0.3333333333333333,
              "#9c179e"
             ],
             [
              0.4444444444444444,
              "#bd3786"
             ],
             [
              0.5555555555555556,
              "#d8576b"
             ],
             [
              0.6666666666666666,
              "#ed7953"
             ],
             [
              0.7777777777777778,
              "#fb9f3a"
             ],
             [
              0.8888888888888888,
              "#fdca26"
             ],
             [
              1,
              "#f0f921"
             ]
            ],
            "type": "contour"
           }
          ],
          "contourcarpet": [
           {
            "colorbar": {
             "outlinewidth": 0,
             "ticks": ""
            },
            "type": "contourcarpet"
           }
          ],
          "heatmap": [
           {
            "colorbar": {
             "outlinewidth": 0,
             "ticks": ""
            },
            "colorscale": [
             [
              0,
              "#0d0887"
             ],
             [
              0.1111111111111111,
              "#46039f"
             ],
             [
              0.2222222222222222,
              "#7201a8"
             ],
             [
              0.3333333333333333,
              "#9c179e"
             ],
             [
              0.4444444444444444,
              "#bd3786"
             ],
             [
              0.5555555555555556,
              "#d8576b"
             ],
             [
              0.6666666666666666,
              "#ed7953"
             ],
             [
              0.7777777777777778,
              "#fb9f3a"
             ],
             [
              0.8888888888888888,
              "#fdca26"
             ],
             [
              1,
              "#f0f921"
             ]
            ],
            "type": "heatmap"
           }
          ],
          "heatmapgl": [
           {
            "colorbar": {
             "outlinewidth": 0,
             "ticks": ""
            },
            "colorscale": [
             [
              0,
              "#0d0887"
             ],
             [
              0.1111111111111111,
              "#46039f"
             ],
             [
              0.2222222222222222,
              "#7201a8"
             ],
             [
              0.3333333333333333,
              "#9c179e"
             ],
             [
              0.4444444444444444,
              "#bd3786"
             ],
             [
              0.5555555555555556,
              "#d8576b"
             ],
             [
              0.6666666666666666,
              "#ed7953"
             ],
             [
              0.7777777777777778,
              "#fb9f3a"
             ],
             [
              0.8888888888888888,
              "#fdca26"
             ],
             [
              1,
              "#f0f921"
             ]
            ],
            "type": "heatmapgl"
           }
          ],
          "histogram": [
           {
            "marker": {
             "pattern": {
              "fillmode": "overlay",
              "size": 10,
              "solidity": 0.2
             }
            },
            "type": "histogram"
           }
          ],
          "histogram2d": [
           {
            "colorbar": {
             "outlinewidth": 0,
             "ticks": ""
            },
            "colorscale": [
             [
              0,
              "#0d0887"
             ],
             [
              0.1111111111111111,
              "#46039f"
             ],
             [
              0.2222222222222222,
              "#7201a8"
             ],
             [
              0.3333333333333333,
              "#9c179e"
             ],
             [
              0.4444444444444444,
              "#bd3786"
             ],
             [
              0.5555555555555556,
              "#d8576b"
             ],
             [
              0.6666666666666666,
              "#ed7953"
             ],
             [
              0.7777777777777778,
              "#fb9f3a"
             ],
             [
              0.8888888888888888,
              "#fdca26"
             ],
             [
              1,
              "#f0f921"
             ]
            ],
            "type": "histogram2d"
           }
          ],
          "histogram2dcontour": [
           {
            "colorbar": {
             "outlinewidth": 0,
             "ticks": ""
            },
            "colorscale": [
             [
              0,
              "#0d0887"
             ],
             [
              0.1111111111111111,
              "#46039f"
             ],
             [
              0.2222222222222222,
              "#7201a8"
             ],
             [
              0.3333333333333333,
              "#9c179e"
             ],
             [
              0.4444444444444444,
              "#bd3786"
             ],
             [
              0.5555555555555556,
              "#d8576b"
             ],
             [
              0.6666666666666666,
              "#ed7953"
             ],
             [
              0.7777777777777778,
              "#fb9f3a"
             ],
             [
              0.8888888888888888,
              "#fdca26"
             ],
             [
              1,
              "#f0f921"
             ]
            ],
            "type": "histogram2dcontour"
           }
          ],
          "mesh3d": [
           {
            "colorbar": {
             "outlinewidth": 0,
             "ticks": ""
            },
            "type": "mesh3d"
           }
          ],
          "parcoords": [
           {
            "line": {
             "colorbar": {
              "outlinewidth": 0,
              "ticks": ""
             }
            },
            "type": "parcoords"
           }
          ],
          "pie": [
           {
            "automargin": true,
            "type": "pie"
           }
          ],
          "scatter": [
           {
            "fillpattern": {
             "fillmode": "overlay",
             "size": 10,
             "solidity": 0.2
            },
            "type": "scatter"
           }
          ],
          "scatter3d": [
           {
            "line": {
             "colorbar": {
              "outlinewidth": 0,
              "ticks": ""
             }
            },
            "marker": {
             "colorbar": {
              "outlinewidth": 0,
              "ticks": ""
             }
            },
            "type": "scatter3d"
           }
          ],
          "scattercarpet": [
           {
            "marker": {
             "colorbar": {
              "outlinewidth": 0,
              "ticks": ""
             }
            },
            "type": "scattercarpet"
           }
          ],
          "scattergeo": [
           {
            "marker": {
             "colorbar": {
              "outlinewidth": 0,
              "ticks": ""
             }
            },
            "type": "scattergeo"
           }
          ],
          "scattergl": [
           {
            "marker": {
             "colorbar": {
              "outlinewidth": 0,
              "ticks": ""
             }
            },
            "type": "scattergl"
           }
          ],
          "scattermapbox": [
           {
            "marker": {
             "colorbar": {
              "outlinewidth": 0,
              "ticks": ""
             }
            },
            "type": "scattermapbox"
           }
          ],
          "scatterpolar": [
           {
            "marker": {
             "colorbar": {
              "outlinewidth": 0,
              "ticks": ""
             }
            },
            "type": "scatterpolar"
           }
          ],
          "scatterpolargl": [
           {
            "marker": {
             "colorbar": {
              "outlinewidth": 0,
              "ticks": ""
             }
            },
            "type": "scatterpolargl"
           }
          ],
          "scatterternary": [
           {
            "marker": {
             "colorbar": {
              "outlinewidth": 0,
              "ticks": ""
             }
            },
            "type": "scatterternary"
           }
          ],
          "surface": [
           {
            "colorbar": {
             "outlinewidth": 0,
             "ticks": ""
            },
            "colorscale": [
             [
              0,
              "#0d0887"
             ],
             [
              0.1111111111111111,
              "#46039f"
             ],
             [
              0.2222222222222222,
              "#7201a8"
             ],
             [
              0.3333333333333333,
              "#9c179e"
             ],
             [
              0.4444444444444444,
              "#bd3786"
             ],
             [
              0.5555555555555556,
              "#d8576b"
             ],
             [
              0.6666666666666666,
              "#ed7953"
             ],
             [
              0.7777777777777778,
              "#fb9f3a"
             ],
             [
              0.8888888888888888,
              "#fdca26"
             ],
             [
              1,
              "#f0f921"
             ]
            ],
            "type": "surface"
           }
          ],
          "table": [
           {
            "cells": {
             "fill": {
              "color": "#EBF0F8"
             },
             "line": {
              "color": "white"
             }
            },
            "header": {
             "fill": {
              "color": "#C8D4E3"
             },
             "line": {
              "color": "white"
             }
            },
            "type": "table"
           }
          ]
         },
         "layout": {
          "annotationdefaults": {
           "arrowcolor": "#2a3f5f",
           "arrowhead": 0,
           "arrowwidth": 1
          },
          "autotypenumbers": "strict",
          "coloraxis": {
           "colorbar": {
            "outlinewidth": 0,
            "ticks": ""
           }
          },
          "colorscale": {
           "diverging": [
            [
             0,
             "#8e0152"
            ],
            [
             0.1,
             "#c51b7d"
            ],
            [
             0.2,
             "#de77ae"
            ],
            [
             0.3,
             "#f1b6da"
            ],
            [
             0.4,
             "#fde0ef"
            ],
            [
             0.5,
             "#f7f7f7"
            ],
            [
             0.6,
             "#e6f5d0"
            ],
            [
             0.7,
             "#b8e186"
            ],
            [
             0.8,
             "#7fbc41"
            ],
            [
             0.9,
             "#4d9221"
            ],
            [
             1,
             "#276419"
            ]
           ],
           "sequential": [
            [
             0,
             "#0d0887"
            ],
            [
             0.1111111111111111,
             "#46039f"
            ],
            [
             0.2222222222222222,
             "#7201a8"
            ],
            [
             0.3333333333333333,
             "#9c179e"
            ],
            [
             0.4444444444444444,
             "#bd3786"
            ],
            [
             0.5555555555555556,
             "#d8576b"
            ],
            [
             0.6666666666666666,
             "#ed7953"
            ],
            [
             0.7777777777777778,
             "#fb9f3a"
            ],
            [
             0.8888888888888888,
             "#fdca26"
            ],
            [
             1,
             "#f0f921"
            ]
           ],
           "sequentialminus": [
            [
             0,
             "#0d0887"
            ],
            [
             0.1111111111111111,
             "#46039f"
            ],
            [
             0.2222222222222222,
             "#7201a8"
            ],
            [
             0.3333333333333333,
             "#9c179e"
            ],
            [
             0.4444444444444444,
             "#bd3786"
            ],
            [
             0.5555555555555556,
             "#d8576b"
            ],
            [
             0.6666666666666666,
             "#ed7953"
            ],
            [
             0.7777777777777778,
             "#fb9f3a"
            ],
            [
             0.8888888888888888,
             "#fdca26"
            ],
            [
             1,
             "#f0f921"
            ]
           ]
          },
          "colorway": [
           "#636efa",
           "#EF553B",
           "#00cc96",
           "#ab63fa",
           "#FFA15A",
           "#19d3f3",
           "#FF6692",
           "#B6E880",
           "#FF97FF",
           "#FECB52"
          ],
          "font": {
           "color": "#2a3f5f"
          },
          "geo": {
           "bgcolor": "white",
           "lakecolor": "white",
           "landcolor": "#E5ECF6",
           "showlakes": true,
           "showland": true,
           "subunitcolor": "white"
          },
          "hoverlabel": {
           "align": "left"
          },
          "hovermode": "closest",
          "mapbox": {
           "style": "light"
          },
          "paper_bgcolor": "white",
          "plot_bgcolor": "#E5ECF6",
          "polar": {
           "angularaxis": {
            "gridcolor": "white",
            "linecolor": "white",
            "ticks": ""
           },
           "bgcolor": "#E5ECF6",
           "radialaxis": {
            "gridcolor": "white",
            "linecolor": "white",
            "ticks": ""
           }
          },
          "scene": {
           "xaxis": {
            "backgroundcolor": "#E5ECF6",
            "gridcolor": "white",
            "gridwidth": 2,
            "linecolor": "white",
            "showbackground": true,
            "ticks": "",
            "zerolinecolor": "white"
           },
           "yaxis": {
            "backgroundcolor": "#E5ECF6",
            "gridcolor": "white",
            "gridwidth": 2,
            "linecolor": "white",
            "showbackground": true,
            "ticks": "",
            "zerolinecolor": "white"
           },
           "zaxis": {
            "backgroundcolor": "#E5ECF6",
            "gridcolor": "white",
            "gridwidth": 2,
            "linecolor": "white",
            "showbackground": true,
            "ticks": "",
            "zerolinecolor": "white"
           }
          },
          "shapedefaults": {
           "line": {
            "color": "#2a3f5f"
           }
          },
          "ternary": {
           "aaxis": {
            "gridcolor": "white",
            "linecolor": "white",
            "ticks": ""
           },
           "baxis": {
            "gridcolor": "white",
            "linecolor": "white",
            "ticks": ""
           },
           "bgcolor": "#E5ECF6",
           "caxis": {
            "gridcolor": "white",
            "linecolor": "white",
            "ticks": ""
           }
          },
          "title": {
           "x": 0.05
          },
          "xaxis": {
           "automargin": true,
           "gridcolor": "white",
           "linecolor": "white",
           "ticks": "",
           "title": {
            "standoff": 15
           },
           "zerolinecolor": "white",
           "zerolinewidth": 2
          },
          "yaxis": {
           "automargin": true,
           "gridcolor": "white",
           "linecolor": "white",
           "ticks": "",
           "title": {
            "standoff": 15
           },
           "zerolinecolor": "white",
           "zerolinewidth": 2
          }
         }
        },
        "title": {
         "font": {
          "color": "white",
          "size": 20
         },
         "text": "Track Dominance Chart - 2024 Season Round 12: British Grand Prix - Qualifying 3",
         "x": 0.5,
         "xanchor": "center"
        },
        "xaxis": {
         "title": {
          "text": "Distance (m)"
         },
         "visible": false
        },
        "yaxis": {
         "title": {
          "text": "Track Position"
         },
         "visible": false
        }
       }
      }
     },
     "metadata": {},
     "output_type": "display_data"
    }
   ],
   "source": [
    "# Create Plotly figure\n",
    "fig = go.Figure()\n",
    "\n",
    "# Function to generate a random color\n",
    "def random_color():\n",
    "    return \"#\"+''.join([random.choice('0123456789ABCDEF') for _ in range(6)])\n",
    "\n",
    "# List of driver keys\n",
    "driver_keys = ['VER', 'HAM', 'NOR', 'RUS', 'LEC', 'SAI', 'ALO', 'PER', 'BOT', 'OCO', \n",
    "               'GAS', 'TSU', 'ZHO', 'MAG', 'HUL', 'ALB', 'SAR', 'LAW', 'PIA', 'STR']\n",
    "\n",
    "# Dynamically assign a random color to each driver\n",
    "colors = {driver: random_color() for driver in driver_keys}\n",
    "\n",
    "# Add trace for each driver\n",
    "for driver in ['VER', 'HAM', 'NOR']:\n",
    "    fig.add_trace(go.Scatter(x=[None], y=[None], mode='lines', \n",
    "                             line=dict(color=colors[driver], width=4), \n",
    "                             name=driver, legendgroup=driver))\n",
    "\n",
    "# Plot each minisector\n",
    "for i in range(len(minisectors) - 1):\n",
    "    winner = minisector_winner[i]\n",
    "    x = ver_tel[(ver_tel['Distance'] >= minisectors[i]) & (ver_tel['Distance'] < minisectors[i+1])]['X'].values\n",
    "    y = ver_tel[(ver_tel['Distance'] >= minisectors[i]) & (ver_tel['Distance'] < minisectors[i+1])]['Y'].values\n",
    "    \n",
    "    fig.add_trace(go.Scatter(\n",
    "        x=x, y=y,\n",
    "        mode='lines',\n",
    "        line=dict(color=colors[winner], width=6, dash='solid'),\n",
    "        name=winner,\n",
    "        showlegend=False\n",
    "    ))\n",
    "\n",
    "# Determine the fastest driver overall\n",
    "fastest_driver = q3.pick_fastest().Driver\n",
    "fastest_time = q3.pick_fastest().LapTime\n",
    "\n",
    "# Beautify the plot\n",
    "fig.update_layout(\n",
    "    title={\n",
    "        'text': f'Track Dominance Chart - {quali} 3',\n",
    "        'x': 0.5,\n",
    "        'xanchor': 'center',\n",
    "        'font': {'size': 20, 'color': 'white'}\n",
    "    },\n",
    "    xaxis_title='Distance (m)',\n",
    "    yaxis_title='Track Position',\n",
    "    legend_title='Drivers',\n",
    "    plot_bgcolor='black',\n",
    "    paper_bgcolor='black',\n",
    "    xaxis=dict(visible=False),\n",
    "    yaxis=dict(visible=False),\n",
    "    font=dict(family='Arial', size=14, color='white'),\n",
    "    annotations=[\n",
    "        dict(\n",
    "            x=0.5, y=1.05, xref='paper', yref='paper',\n",
    "            text=f\"Fastest Driver: {fastest_driver} ({fastest_time})\",\n",
    "            showarrow=False,\n",
    "            font=dict(size=16, color=colors[fastest_driver])\n",
    "        )\n",
    "    ],\n",
    "    margin=dict(l=0, r=0, t=100, b=0)  # Adjust margins to fit title and annotations\n",
    ")\n",
    "\n",
    "fig.show()\n"
   ]
  },
  {
   "cell_type": "code",
   "execution_count": null,
   "metadata": {},
   "outputs": [],
   "source": []
  }
 ],
 "metadata": {
  "kernelspec": {
   "display_name": "Python 3",
   "language": "python",
   "name": "python3"
  },
  "language_info": {
   "codemirror_mode": {
    "name": "ipython",
    "version": 3
   },
   "file_extension": ".py",
   "mimetype": "text/x-python",
   "name": "python",
   "nbconvert_exporter": "python",
   "pygments_lexer": "ipython3",
   "version": "3.9.5"
  }
 },
 "nbformat": 4,
 "nbformat_minor": 2
}
